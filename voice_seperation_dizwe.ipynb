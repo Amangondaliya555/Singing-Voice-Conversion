{
 "cells": [
  {
   "cell_type": "markdown",
   "metadata": {},
   "source": [
    "ffmpeg 설치\n",
    "https://stackoverflow.com/questions/3673042/algorithm-to-remove-vocal-from-sound-track"
   ]
  },
  {
   "cell_type": "code",
   "execution_count": 5,
   "metadata": {},
   "outputs": [],
   "source": [
    "from pydub import AudioSegment\n",
    "from pydub.playback import play\n",
    "\n",
    "# read in audio file and get the two mono tracks\n",
    "sound_stereo = AudioSegment.from_file('good_day.mp3', format=\"mp3\")\n",
    "sound_monoL = sound_stereo.split_to_mono()[0]\n",
    "sound_monoR = sound_stereo.split_to_mono()[1]\n",
    "\n",
    "# Invert phase of the Right audio file\n",
    "sound_monoR_inv = sound_monoR.invert_phase()\n",
    "\n",
    "# Merge two L and R_inv files, this cancels out the centers\n",
    "sound_CentersOut = sound_monoL.overlay(sound_monoR_inv)\n",
    "\n",
    "# Export merged audio file\n",
    "fh = sound_CentersOut.export('good_day_center_out.mp3', format=\"mp3\")\n"
   ]
  },
  {
   "cell_type": "code",
   "execution_count": 7,
   "metadata": {},
   "outputs": [
    {
     "data": {
      "text/plain": [
       "[<pydub.audio_segment.AudioSegment at 0x10778bd68>,\n",
       " <pydub.audio_segment.AudioSegment at 0x10778b4e0>]"
      ]
     },
     "execution_count": 7,
     "metadata": {},
     "output_type": "execute_result"
    }
   ],
   "source": [
    "sound_stereo.split_to_mono()"
   ]
  },
  {
   "cell_type": "code",
   "execution_count": null,
   "metadata": {},
   "outputs": [],
   "source": []
  }
 ],
 "metadata": {
  "kernelspec": {
   "display_name": "Python 3",
   "language": "python",
   "name": "python3"
  },
  "language_info": {
   "codemirror_mode": {
    "name": "ipython",
    "version": 3
   },
   "file_extension": ".py",
   "mimetype": "text/x-python",
   "name": "python",
   "nbconvert_exporter": "python",
   "pygments_lexer": "ipython3",
   "version": "3.7.1"
  }
 },
 "nbformat": 4,
 "nbformat_minor": 2
}
