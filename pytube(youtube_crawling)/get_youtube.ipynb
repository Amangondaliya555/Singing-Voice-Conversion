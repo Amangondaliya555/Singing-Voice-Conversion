{
 "cells": [
  {
   "cell_type": "markdown",
   "metadata": {},
   "source": [
    "# Attention!\n",
    "current_dir은 내 파일이 위치해있는 폴더를 작성하면 됩니다아(자동으로 얻게는 했으나 바꾸고 싶다면 바꾸시면 됩니다)\n",
    "\n",
    "a_class와 b_class에는 class_labels_indieces.csv 파일 이용하여 원하는 파일 읽으면 됩니다요~"
   ]
  },
  {
   "cell_type": "code",
   "execution_count": 34,
   "metadata": {},
   "outputs": [],
   "source": [
    "current_dir = os.getcwd() + '/' # 현재 디렉토리 얻기\n",
    "a_class = 'Flute'\n",
    "b_class = 'Cello'"
   ]
  },
  {
   "cell_type": "code",
   "execution_count": 35,
   "metadata": {},
   "outputs": [
    {
     "name": "stderr",
     "output_type": "stream",
     "text": [
      "/Users/dizwe/anaconda3/envs/tobigs/lib/python3.7/site-packages/ipykernel_launcher.py:7: ParserWarning: Falling back to the 'python' engine because the 'c' engine does not support regex separators (separators > 1 char and different from '\\s+' are interpreted as regex); you can avoid this warning by specifying engine='python'.\n",
      "  import sys\n"
     ]
    }
   ],
   "source": [
    "### 데이터 위에 주석 두줄 삭제해야 잘 됨 \n",
    "import pandas as pd\n",
    "################ parent dir 바꾸기\n",
    "\n",
    "class_df = pd.read_csv(f'{current_dir}class_labels_indices.csv')\n",
    "# 데이터에 ,로 구분되는게 있어서 \", \"로 구분되기 해야한다.\n",
    "balanced_df = pd.read_csv(f'{current_dir}balanced_train_segments.csv',sep=\", \")\n"
   ]
  },
  {
   "cell_type": "code",
   "execution_count": null,
   "metadata": {},
   "outputs": [],
   "source": []
  },
  {
   "cell_type": "code",
   "execution_count": null,
   "metadata": {},
   "outputs": [],
   "source": []
  },
  {
   "cell_type": "code",
   "execution_count": 37,
   "metadata": {},
   "outputs": [],
   "source": [
    "################ flute, cello 부분을 원하는 data로 바꾸기(replace Flute, Cello를 원하는 변수로 바꾸세용)\n",
    "a_class_mid = class_df[class_df['display_name']==a_class]['mid']\n",
    "b_class_mid = class_df[class_df['display_name']==b_class]['mid']\n",
    "# to_string 하면 index까지 같이 나옴\n",
    "# balanced_df[balanced_df[\"positive_labels\"].str.find(flute_mid.to_string())!=-1]\n",
    "a_class_df = balanced_df[balanced_df[\"positive_labels\"].str.find(a_class_mid.values[0])!=-1]\n",
    "b_class_df = balanced_df[balanced_df[\"positive_labels\"].str.find(b_class_mid.values[0])!=-1]\n"
   ]
  },
  {
   "cell_type": "code",
   "execution_count": null,
   "metadata": {},
   "outputs": [],
   "source": [
    "### a_class 크롤링하기\n",
    "from pytube import YouTube\n",
    "import subprocess\n",
    "import os\n",
    "## iter_rows 해줘야 함\n",
    "from_check = False\n",
    "error_list = []\n",
    "for index, sr in a_class_df.iterrows():    \n",
    "    ## 해당번호까지 크롤 했으면 다음거 부터 크롤 해야 하니까 일단 임시로 만들기\n",
    "    # if(from_check==False):\n",
    "    #     if (index==6945):\n",
    "    #         from_check = True\n",
    "    #     continue\n",
    "    print(sr)\n",
    "    print(f'https://www.youtube.com/watch?v={sr[\"YTID\"]}')\n",
    "    try:\n",
    "        yt = YouTube(f'https://www.youtube.com/watch?v={sr[\"YTID\"]}')\n",
    "        vids = yt.streams.filter(file_extension='mp4').all() \n",
    "        # print(vids)\n",
    "        # [<Stream: itag=\"140\" mime_type=\"audio/mp4\" abr=\"128kbps\" acodec=\"mp4a.40.2\">, <Stream: itag=\"249\" mime_type=\"audio/webm\" abr=\"50kbps\" acodec=\"opus\">, <Stream: itag=\"250\" mime_type=\"audio/webm\" abr=\"70kbps\" acodec=\"opus\">, <Stream: itag=\"251\" mime_type=\"audio/webm\" abr=\"160kbps\" acodec=\"opus\">]\n",
    "        vids[0].download(f'{current_dir}data/{a_class}/')\n",
    "        print(vids[0].default_filename)\n",
    "        # ffmpeg -ss (start time) -i (direct video link) -t (duration needed) -c:v copy -c:a copy (destination file)\n",
    "        k = os.path.join(f'{current_dir}data/{a_class}/',\"a.mp3\")\n",
    "        ### Overwrite 안됨.\n",
    "        subprocess.call(['ffmpeg','-ss',str(int(sr[\"start_seconds\"])),'-i',\n",
    "            os.path.join(f'{current_dir}data/{a_class}/' ,vids[0].default_filename),\n",
    "            '-t',str(int(sr[\"end_seconds\"]-sr[\"start_seconds\"])),\n",
    "            os.path.join(f'{current_dir}data/{a_class}/audio/',f'{index}.mp3')\n",
    "        ])\n",
    "        subprocess.call(['mv',\n",
    "            os.path.join(f'{current_dir}data/{a_class}/' ,vids[0].default_filename),\n",
    "            os.path.join(f'{current_dir}data/{a_class}/',f'{index}.mp4')\n",
    "        ])\n",
    "        \n",
    "    except Exception as ex:\n",
    "        print('에러가 발생 했습니다', ex)\n",
    "        error_list.append(index)\n",
    "    # ffmpeg -ss 10 -i kk.mp4 -t 30 a.mp3\n",
    "\n"
   ]
  },
  {
   "cell_type": "code",
   "execution_count": null,
   "metadata": {},
   "outputs": [],
   "source": [
    "a_class_err_pd = pd.DataFrame(error_list)\n",
    "a_class_err_pd.to_csv('a_class_err.csv')"
   ]
  },
  {
   "cell_type": "code",
   "execution_count": null,
   "metadata": {},
   "outputs": [],
   "source": [
    "### b_class 크롤링하기\n",
    "from pytube import YouTube\n",
    "import subprocess\n",
    "import os\n",
    "## iter_rows 해줘야 함\n",
    "from_check = False\n",
    "error_list = []\n",
    "for index, sr in b_class_df.iterrows():    \n",
    "    ## 해당번호까지 크롤 했으면 다음거 부터 크롤 해야 하니까 일단 임시로 만들기\n",
    "    # if(from_check==False):\n",
    "    #     if (index==6945):\n",
    "    #         from_check = True\n",
    "    #     continue\n",
    "    print(sr)\n",
    "    print(f'https://www.youtube.com/watch?v={sr[\"YTID\"]}')\n",
    "    try:\n",
    "        yt = YouTube(f'https://www.youtube.com/watch?v={sr[\"YTID\"]}')\n",
    "        vids = yt.streams.filter(file_extension='mp4').all() \n",
    "        # print(vids)\n",
    "        # [<Stream: itag=\"140\" mime_type=\"audio/mp4\" abr=\"128kbps\" acodec=\"mp4a.40.2\">, <Stream: itag=\"249\" mime_type=\"audio/webm\" abr=\"50kbps\" acodec=\"opus\">, <Stream: itag=\"250\" mime_type=\"audio/webm\" abr=\"70kbps\" acodec=\"opus\">, <Stream: itag=\"251\" mime_type=\"audio/webm\" abr=\"160kbps\" acodec=\"opus\">]\n",
    "        vids[0].download(f'{current_dir}data/{b_class}/')\n",
    "        print(vids[0].default_filename)\n",
    "        # ffmpeg -ss (start time) -i (direct video link) -t (duration needed) -c:v copy -c:a copy (destination file)\n",
    "        k = os.path.join(f'{current_dir}data/{b_class}/',\"a.mp3\")\n",
    "        ### Overwrite 안됨.\n",
    "        subprocess.call(['ffmpeg','-ss',str(int(sr[\"start_seconds\"])),'-i',\n",
    "            os.path.join(f'{current_dir}data/{b_class}/' ,vids[0].default_filename),\n",
    "            '-t',str(int(sr[\"end_seconds\"]-sr[\"start_seconds\"])),\n",
    "            os.path.join(f'{current_dir}data/{b_class}/audio/',f'{index}.mp3')\n",
    "        ])\n",
    "        subprocess.call(['mv',\n",
    "            os.path.join(f'{current_dir}data/{b_class}/' ,vids[0].default_filename),\n",
    "            os.path.join(f'{current_dir}data/{b_class}/',f'{index}.mp4')\n",
    "        ])\n",
    "        \n",
    "    except Exception as ex:\n",
    "        print('에러가 발생 했습니다', ex)\n",
    "        error_list.append(index)\n",
    "    # ffmpeg -ss 10 -i kk.mp4 -t 30 a.mp3\n",
    "b_class_err_pd = pd.DataFrame(error_list)\n",
    "b_class_err_pd.to_csv('b_class_err.csv')\n"
   ]
  },
  {
   "cell_type": "code",
   "execution_count": null,
   "metadata": {},
   "outputs": [],
   "source": []
  },
  {
   "cell_type": "code",
   "execution_count": null,
   "metadata": {},
   "outputs": [],
   "source": [
    "b_class_err_pd = pd.DataFrame(error_list)\n",
    "b_class_err_pd.to_csv('b_class_err.csv')\n"
   ]
  }
 ],
 "metadata": {
  "kernel_info": {
   "name": "Untitled"
  },
  "kernelspec": {
   "display_name": "tobigs",
   "language": "python",
   "name": "tobigs"
  },
  "language_info": {
   "codemirror_mode": {
    "name": "ipython",
    "version": 3
   },
   "file_extension": ".py",
   "mimetype": "text/x-python",
   "name": "python",
   "nbconvert_exporter": "python",
   "pygments_lexer": "ipython3",
   "version": "3.7.4"
  }
 },
 "nbformat": 4,
 "nbformat_minor": 4
}
